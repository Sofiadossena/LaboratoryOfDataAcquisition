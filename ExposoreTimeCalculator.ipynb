{
 "cells": [
  {
   "cell_type": "code",
   "execution_count": 5,
   "metadata": {},
   "outputs": [],
   "source": [
    "import numpy as np  \n",
    "import matplotlib.pyplot as plt"
   ]
  },
  {
   "cell_type": "markdown",
   "metadata": {},
   "source": [
    "Costants and given values"
   ]
  },
  {
   "cell_type": "code",
   "execution_count": 6,
   "metadata": {},
   "outputs": [],
   "source": [
    "ndark=0.002      #number of electrons/sec/pixel\n",
    "NRON=1.5         #Read out noise\n",
    "\n",
    "Cr=-16.26\n",
    "skyBr_r=5.47*10**(-16)\n",
    "\n",
    "Ci=-16.06\n",
    "skyBr_i=2.15*10**(-16)\n",
    "\n",
    "Cg=-16.26\n",
    "skyBr_g=8.11*10**(-16)"
   ]
  },
  {
   "cell_type": "code",
   "execution_count": 7,
   "metadata": {},
   "outputs": [
    {
     "data": {
      "text/plain": [
       "23.367218084552178"
      ]
     },
     "execution_count": 7,
     "metadata": {},
     "output_type": "execute_result"
    }
   ],
   "source": [
    "r=1.5                   #PSF radius \n",
    "A=np.pi*r**2\n",
    "Npix=A/0.55**2          #Number of pixel from the PSF and dimension in arcsec of the pixel length \n",
    "Npix"
   ]
  },
  {
   "cell_type": "code",
   "execution_count": 8,
   "metadata": {},
   "outputs": [],
   "source": [
    "c=3*10**(18)\n",
    "l=7000"
   ]
  },
  {
   "cell_type": "markdown",
   "metadata": {},
   "source": [
    "Final Formula"
   ]
  },
  {
   "cell_type": "code",
   "execution_count": null,
   "metadata": {},
   "outputs": [],
   "source": [
    "def SNR(time, C, ml, skyBr):\n",
    "    nsky=skyBr/10**C*0.55**2\n",
    "    nstar=10**(-((ml+48.6)/2.5+C))*c/l**2\n",
    "    return nstar*time/np.sqrt(nstar*time+Npix*(nsky*time+ndark*time+NRON**2))\n",
    "\n",
    "#SNR_vectorized = np.vectorize(SNR)"
   ]
  },
  {
   "cell_type": "code",
   "execution_count": 11,
   "metadata": {},
   "outputs": [
    {
     "data": {
      "text/plain": [
       "2.9431954079409994"
      ]
     },
     "execution_count": 11,
     "metadata": {},
     "output_type": "execute_result"
    }
   ],
   "source": [
    "t=10*60\n",
    "mnu=19\n",
    "snr=SNR(t,Cr,mnu,skyBr_r)\n",
    "snr"
   ]
  },
  {
   "cell_type": "code",
   "execution_count": 12,
   "metadata": {},
   "outputs": [],
   "source": [
    "t_values = np.array([0.1, 1, 10, 100])\n",
    "snr_values = SNR(t_values, Cr,mnu, skyBr_r)"
   ]
  },
  {
   "cell_type": "code",
   "execution_count": null,
   "metadata": {},
   "outputs": [],
   "source": []
  }
 ],
 "metadata": {
  "kernelspec": {
   "display_name": "Python 3",
   "language": "python",
   "name": "python3"
  },
  "language_info": {
   "codemirror_mode": {
    "name": "ipython",
    "version": 3
   },
   "file_extension": ".py",
   "mimetype": "text/x-python",
   "name": "python",
   "nbconvert_exporter": "python",
   "pygments_lexer": "ipython3",
   "version": "3.12.5"
  }
 },
 "nbformat": 4,
 "nbformat_minor": 2
}
